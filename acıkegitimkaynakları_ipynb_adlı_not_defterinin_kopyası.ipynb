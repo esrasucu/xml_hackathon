{
  "nbformat": 4,
  "nbformat_minor": 0,
  "metadata": {
    "colab": {
      "provenance": [],
      "mount_file_id": "https://github.com/esrasucu/xml-depo/blob/main/ac%C4%B1kegitimkaynaklar%C4%B1.ipynb",
      "authorship_tag": "ABX9TyN8MuTRfal3s6mf0gTOals2",
      "include_colab_link": true
    },
    "kernelspec": {
      "name": "python3",
      "display_name": "Python 3"
    },
    "language_info": {
      "name": "python"
    }
  },
  "cells": [
    {
      "cell_type": "markdown",
      "metadata": {
        "id": "view-in-github",
        "colab_type": "text"
      },
      "source": [
        "<a href=\"https://colab.research.google.com/github/esrasucu/xml_hackathon/blob/main/ac%C4%B1kegitimkaynaklar%C4%B1_ipynb_adl%C4%B1_not_defterinin_kopyas%C4%B1.ipynb\" target=\"_parent\"><img src=\"https://colab.research.google.com/assets/colab-badge.svg\" alt=\"Open In Colab\"/></a>"
      ]
    },
    {
      "cell_type": "code",
      "source": [
        "import xml.etree.ElementTree as ET\n",
        "\n",
        "def aek_kaydet(baslik, anahtarKelimeler, ozetBilgi, olusturan, lisans, dil, kaynakURL):\n",
        "    try:\n",
        "       tree = ET.parse('/content/veri.xml')\n",
        "       root = tree.getroot()\n",
        "    except FileNotFoundError:\n",
        "        root = ET.Element('aekler')\n",
        "        tree = ET.ElementTree(root)\n",
        "\n",
        "    # Yeni bir kaynak (Resource) elemanı oluşturuyoruz\n",
        "    resource = ET.SubElement(root, 'Resource')\n",
        "\n",
        "    # Kullanıcıdan alınan verileri ilgili XML etiketlerine ekliyoruz\n",
        "    aek = ET.SubElement(root, 'aek')\n",
        "    ET.SubElement(aek, 'baslik').text = baslik\n",
        "    ET.SubElement(aek, 'anahtarKelimeler').text = anahtarKelimeler\n",
        "    ET.SubElement(aek, 'ozetBilgi').text = ozetBilgi\n",
        "    ET.SubElement(aek, 'olusturan').text = olusturan\n",
        "    ET.SubElement(aek, 'lisans').text = lisans\n",
        "    ET.SubElement(aek, 'dil').text = dil\n",
        "    ET.SubElement(aek, 'kaynakURL').text = kaynakURL\n",
        "\n",
        "     # XML dosyasına yazıyoruz\n",
        "    tree.write('aek.xml', encoding=\"UTF-8\", xml_declaration=True)\n",
        "    print(\"Veri XML dosyasına kaydedildi.\")\n",
        "\n",
        "# Kullanıcıdan veri almak için fonksiyon\n",
        "def get_user_input():\n",
        "    print(\"Açık Eğitim Kaynağı Bilgilerini Giriniz:\")\n",
        "    title = input(\"Başlık: \")\n",
        "    subject = input(\"Anahtar Kelimeler: \")\n",
        "    description = input(\"Açıklama: \")\n",
        "    creator = input(\"Oluşturan: \")\n",
        "    license = input(\"Lisans: \")\n",
        "    language = input(\"Dil: \")\n",
        "    identifier = input(\"Kaynak URL: \")\n",
        "\n",
        "    add_to_xml(title, subject, description, creator, license, language, identifier)\n",
        "\n",
        "# Ana fonksiyon\n",
        "if __name__ == '__main__':\n",
        "    get_user_input()"
      ],
      "metadata": {
        "id": "DyKQh09Ki64q"
      },
      "execution_count": null,
      "outputs": []
    },
    {
      "cell_type": "code",
      "source": [
        "# XML dosyasındaki verileri listeleme\n",
        "def list_resources():\n",
        "    try:\n",
        "        tree = ET.parse('aek.xml')\n",
        "        root = tree.getroot()\n",
        "\n",
        "        if len(root.findall('Resource')) == 0:\n",
        "            print(\"Kaynak bulunamadı.\")\n",
        "            return\n",
        "\n",
        "        # Tüm kaynakları listele\n",
        "        for i, resource in enumerate(root.findall('Resource'), start=1):\n",
        "            title = resource.find('Title').text\n",
        "            subject = resource.find('Subject').text\n",
        "            description = resource.find('Description').text\n",
        "            creator = resource.find('Creator').text\n",
        "            license = resource.find('License').text\n",
        "            language = resource.find('Language').text\n",
        "            identifier = resource.find('Identifier').text\n",
        "\n",
        "            # Kaynağın bilgilerini ekrana yazdır\n",
        "            print(f\"\\nKaynak {i}:\")\n",
        "            print(f\"Başlık: {title}\")\n",
        "            print(f\"Anahtar Kelimeler: {subject}\")\n",
        "            print(f\"Açıklama: {description}\")\n",
        "            print(f\"Oluşturan: {creator}\")\n",
        "            print(f\"Lisans: {license}\")\n",
        "            print(f\"Dil: {language}\")\n",
        "            print(f\"URL: {identifier}\")\n",
        "\n",
        "    except FileNotFoundError:\n",
        "        print(\"Veri dosyası bulunamadı.\")\n",
        "\n",
        "# Ana fonksiyon\n",
        "if __name__ == '__main__':\n",
        "    list_resources()"
      ],
      "metadata": {
        "id": "Si9HqWlAhiPX"
      },
      "execution_count": null,
      "outputs": []
    },
    {
      "cell_type": "code",
      "source": [
        "# Başlık üzerinden arama fonksiyonu\n",
        "def search_by_title(search_term):\n",
        "    try:\n",
        "        tree = ET.parse('aek.xml')\n",
        "        root = tree.getroot()\n",
        "\n",
        "        found = False\n",
        "        # Kaynaklar arasında arama yapıyoruz\n",
        "        for i, resource in enumerate(root.findall('Resource'), start=1):\n",
        "            title = resource.find('Title').text.lower()\n",
        "            # Başlık arama terimini içeriyorsa, bilgileri listele\n",
        "            if search_term.lower() in title:\n",
        "                found = True\n",
        "                subject = resource.find('Subject').text\n",
        "                description = resource.find('Description').text\n",
        "                creator = resource.find('Creator').text\n",
        "                license = resource.find('License').text\n",
        "                language = resource.find('Language').text\n",
        "                identifier = resource.find('Identifier').text\n",
        "\n",
        "                # Kaynağın bilgilerini ekrana yazdır\n",
        "                print(f\"\\nKaynak {i}:\")\n",
        "                print(f\"Başlık: {title}\")\n",
        "                print(f\"Anahtar Kelimeler: {subject}\")\n",
        "                print(f\"Açıklama: {description}\")\n",
        "                print(f\"Oluşturan: {creator}\")\n",
        "                print(f\"Lisans: {license}\")\n",
        "                print(f\"Dil: {language}\")\n",
        "                print(f\"URL: {identifier}\")\n",
        "\n",
        "        if not found:\n",
        "            print(\"Başlıkta belirtilen terimi içeren kaynak bulunamadı.\")\n",
        "    except FileNotFoundError:\n",
        "        print(\"Veri dosyası bulunamadı.\")\n",
        "\n",
        "# Ana fonksiyon\n",
        "if __name__ == '__main__':\n",
        "    search_term = input(\"Aramak istediğiniz başlığı girin: \")\n",
        "    search_by_title(search_term)"
      ],
      "metadata": {
        "id": "4I-ui2UBhjkj"
      },
      "execution_count": null,
      "outputs": []
    },
    {
      "cell_type": "code",
      "source": [
        "def main():\n",
        "    while True:\n",
        "        print(\"\\nSeçiminizi yapın:\")\n",
        "        print(\"1. Veri Kaydet\")\n",
        "        print(\"2. Verileri Listele\")\n",
        "        print(\"3. Başlıkla Ara\")\n",
        "        print(\"4. Çık\")\n",
        "\n",
        "        choice = input(\"Seçiminizi girin (1/2/3/4): \")\n",
        "\n",
        "        if choice == '1':\n",
        "            get_user_input()\n",
        "        elif choice == '2':\n",
        "            list_resources()\n",
        "        elif choice == '3':\n",
        "            search_term = input(\"Aramak istediğiniz başlığı girin: \")\n",
        "            search_by_title(search_term)\n",
        "        elif choice == '4':\n",
        "            print(\"Çıkılıyor...\")\n",
        "            break\n",
        "        else:\n",
        "            print(\"Geçersiz seçim, lütfen tekrar deneyin.\")\n",
        "\n",
        "if __name__ == '__main__':\n",
        "    main()"
      ],
      "metadata": {
        "id": "_WRG7DTzhoc6"
      },
      "execution_count": null,
      "outputs": []
    }
  ]
}